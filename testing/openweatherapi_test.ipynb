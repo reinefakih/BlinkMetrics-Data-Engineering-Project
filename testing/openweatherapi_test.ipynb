{
 "cells": [
  {
   "cell_type": "markdown",
   "metadata": {},
   "source": [
    "# OpenWeather API Testing"
   ]
  },
  {
   "cell_type": "markdown",
   "metadata": {},
   "source": [
    "--------------"
   ]
  },
  {
   "cell_type": "markdown",
   "metadata": {},
   "source": [
    "This notebook's purpose is to test the [One Call API 3.0](https://openweathermap.org/api/one-call-3) from Open Weather API"
   ]
  },
  {
   "cell_type": "code",
   "execution_count": 7,
   "metadata": {},
   "outputs": [],
   "source": [
    "# import statements\n",
    "\n",
    "import requests\n",
    "import os\n",
    "import datetime as dt\n",
    "from dotenv import load_dotenv, find_dotenv"
   ]
  },
  {
   "cell_type": "code",
   "execution_count": 8,
   "metadata": {},
   "outputs": [
    {
     "data": {
      "text/plain": [
       "True"
      ]
     },
     "execution_count": 8,
     "metadata": {},
     "output_type": "execute_result"
    }
   ],
   "source": [
    "# import local environmental variables (so API Keys are hidden from github repo)\n",
    "\n",
    "load_dotenv(find_dotenv(), override=True)"
   ]
  },
  {
   "cell_type": "code",
   "execution_count": 11,
   "metadata": {},
   "outputs": [],
   "source": [
    "API_KEY = os.getenv('BLINKMETRICS_OPENWEATHER_API_KEY')"
   ]
  },
  {
   "cell_type": "markdown",
   "metadata": {},
   "source": [
    "To convert from city names to lat-lon we will use the [Geocoding API](https://openweathermap.org/api/geocoding-api)"
   ]
  },
  {
   "cell_type": "code",
   "execution_count": 14,
   "metadata": {},
   "outputs": [],
   "source": [
    "# testing parameters for the geocoding API\n",
    "\n",
    "city_name = 'Beirut'\n",
    "country_code = 'LB'\n",
    "limit = 2\n",
    "\n",
    "geo_code_url = f'http://api.openweathermap.org/geo/1.0/direct?q={city_name},{country_code}&limit={limit}&appid={API_KEY}'"
   ]
  },
  {
   "cell_type": "code",
   "execution_count": 19,
   "metadata": {},
   "outputs": [
    {
     "data": {
      "text/plain": [
       "200"
      ]
     },
     "execution_count": 19,
     "metadata": {},
     "output_type": "execute_result"
    }
   ],
   "source": [
    "# calling the api and seeing the status code (if the call worked or not)\n",
    "\n",
    "geo_response = requests.get(geo_code_url)\n",
    "geo_response.status_code"
   ]
  },
  {
   "cell_type": "code",
   "execution_count": 25,
   "metadata": {},
   "outputs": [
    {
     "data": {
      "text/plain": [
       "[{'name': 'Beirut',\n",
       "  'local_names': {'ascii': 'Beirut',\n",
       "   'oc': 'Beirot',\n",
       "   'bn': 'বৈরুত',\n",
       "   'et': 'Beirut',\n",
       "   'lv': 'Beirūta',\n",
       "   'ru': 'Бейрут',\n",
       "   'es': 'Beirut',\n",
       "   'br': 'Beirout',\n",
       "   'bs': 'Bejrut',\n",
       "   'fr': 'Beyrouth',\n",
       "   'fy': 'Beirût',\n",
       "   'cs': 'Bejrút',\n",
       "   'ku': 'Bêrût',\n",
       "   'ur': 'بیروت',\n",
       "   'ar': 'بيروت',\n",
       "   'is': 'Beirút',\n",
       "   'mk': 'Бејрут',\n",
       "   'am': 'ቤይሩት',\n",
       "   'lt': 'Beirutas',\n",
       "   'kk': 'Бейрут',\n",
       "   'mr': 'बैरूत',\n",
       "   'af': 'Beiroet',\n",
       "   'he': 'ביירות',\n",
       "   'pl': 'Bejrut',\n",
       "   'fi': 'Beirut',\n",
       "   'sv': 'Beirut',\n",
       "   'el': 'Βηρυτός',\n",
       "   'tg': 'Бейрут',\n",
       "   'hu': 'Bejrút',\n",
       "   'ka': 'ბეირუთი',\n",
       "   'sr': 'Бејрут',\n",
       "   'bo': 'པེ་རུ་ཐེ།',\n",
       "   'yi': 'ביירוט',\n",
       "   'th': 'เบรุต',\n",
       "   'fa': 'بیروت',\n",
       "   'pt': 'Beirute',\n",
       "   'it': 'Beirut',\n",
       "   'de': 'Beirut',\n",
       "   'uk': 'Бейрут',\n",
       "   'ug': 'بېيرۇت',\n",
       "   'ml': 'ബെയ്റൂത്ത്',\n",
       "   'ta': 'பெய்ரூத்',\n",
       "   'sk': 'Bejrút',\n",
       "   'be': 'Бейрут',\n",
       "   'my': 'ဘေရွတ်မြို့',\n",
       "   'eu': 'Beirut',\n",
       "   'eo': 'Bejruto',\n",
       "   'vo': 'Bäyrut',\n",
       "   'feature_name': 'Beirut',\n",
       "   'da': 'Beirut',\n",
       "   'ga': 'Béiriút',\n",
       "   'zh': '貝魯特',\n",
       "   'ht': 'Bewout',\n",
       "   'sq': 'Bejrut',\n",
       "   'az': 'Beyrut',\n",
       "   'mn': 'Бейрут',\n",
       "   'la': 'Berytus',\n",
       "   'nl': 'Beiroet',\n",
       "   'kn': 'ಬೈರುತ್',\n",
       "   'ko': '베이루트',\n",
       "   'hi': 'बेयरूत',\n",
       "   'bg': 'Бейрут',\n",
       "   'ky': 'Бейрут',\n",
       "   'sl': 'Bejrut',\n",
       "   'ja': 'ベイルート',\n",
       "   'tt': 'Бәйрут',\n",
       "   'hy': 'Պէյրութ',\n",
       "   'hr': 'Bejrut',\n",
       "   'tr': 'Beyrut',\n",
       "   'sh': 'Bejrut',\n",
       "   'os': 'Бейрут',\n",
       "   'en': 'Beirut'},\n",
       "  'lat': 33.8959203,\n",
       "  'lon': 35.47843,\n",
       "  'country': 'LB',\n",
       "  'state': 'Beirut Governorate'}]"
      ]
     },
     "execution_count": 25,
     "metadata": {},
     "output_type": "execute_result"
    }
   ],
   "source": [
    "# getting the result\n",
    "\n",
    "geo_result = geo_response.json()\n",
    "geo_result"
   ]
  },
  {
   "cell_type": "code",
   "execution_count": 27,
   "metadata": {},
   "outputs": [
    {
     "name": "stdout",
     "output_type": "stream",
     "text": [
      "(33.8959203, 35.47843)\n"
     ]
    }
   ],
   "source": [
    "# getting the lat and lon values:\n",
    "\n",
    "lat = geo_result[0]['lat']\n",
    "lon = geo_result[0]['lon']\n",
    "\n",
    "print((lat,lon))"
   ]
  },
  {
   "cell_type": "markdown",
   "metadata": {},
   "source": [
    "Now to try out the One Call API"
   ]
  },
  {
   "cell_type": "code",
   "execution_count": 38,
   "metadata": {},
   "outputs": [],
   "source": [
    "# testing some parameters\n",
    "\n",
    "lat = lat\n",
    "lon = lon\n",
    "units = 'metric'\n",
    "\n",
    "oc_url = f'https://api.openweathermap.org/data/3.0/onecall?lat={lat}&lon={lon}&units={units}&appid={API_KEY}'"
   ]
  },
  {
   "cell_type": "code",
   "execution_count": 40,
   "metadata": {},
   "outputs": [
    {
     "data": {
      "text/plain": [
       "401"
      ]
     },
     "execution_count": 40,
     "metadata": {},
     "output_type": "execute_result"
    }
   ],
   "source": [
    "# calling the api and seeing the status code (if the call worked or not)\n",
    "\n",
    "oc_response = requests.get(oc_url)\n",
    "oc_response.status_code"
   ]
  },
  {
   "cell_type": "markdown",
   "metadata": {},
   "source": [
    "Since it's returning 401, I need to figure out what is happening since we are getting an error."
   ]
  },
  {
   "cell_type": "code",
   "execution_count": 43,
   "metadata": {},
   "outputs": [
    {
     "name": "stdout",
     "output_type": "stream",
     "text": [
      "401 Client Error: Unauthorized for url: https://api.openweathermap.org/data/3.0/onecall?lat=33.8959203&lon=35.47843&units=metric&appid=fda55e346b98617d3e68148dc7f96d8d\n"
     ]
    }
   ],
   "source": [
    "try:\n",
    "    oc_response.raise_for_status()\n",
    "    \n",
    "except Exception as e:\n",
    "    print(e)"
   ]
  },
  {
   "cell_type": "markdown",
   "metadata": {},
   "source": [
    "The request to the API is failing due to an authorization issue, let us see how to fix it."
   ]
  }
 ],
 "metadata": {
  "kernelspec": {
   "display_name": ".venv",
   "language": "python",
   "name": "python3"
  },
  "language_info": {
   "codemirror_mode": {
    "name": "ipython",
    "version": 3
   },
   "file_extension": ".py",
   "mimetype": "text/x-python",
   "name": "python",
   "nbconvert_exporter": "python",
   "pygments_lexer": "ipython3",
   "version": "3.12.4"
  }
 },
 "nbformat": 4,
 "nbformat_minor": 2
}
