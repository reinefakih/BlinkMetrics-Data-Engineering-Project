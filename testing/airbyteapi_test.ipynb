{
 "cells": [
  {
   "cell_type": "markdown",
   "metadata": {},
   "source": [
    "# Airbyte API Testing for adding sources"
   ]
  },
  {
   "cell_type": "markdown",
   "metadata": {},
   "source": [
    "----------------------------------------------------------------"
   ]
  },
  {
   "cell_type": "markdown",
   "metadata": {},
   "source": [
    "This notebook's aim is to playaround and see how airbyte api works and how to make a python script to add sources."
   ]
  },
  {
   "cell_type": "code",
   "execution_count": 1,
   "metadata": {},
   "outputs": [],
   "source": [
    "# import statments\n",
    "import requests\n",
    "import os\n",
    "from dotenv import load_dotenv, find_dotenv"
   ]
  },
  {
   "cell_type": "code",
   "execution_count": 27,
   "metadata": {},
   "outputs": [],
   "source": [
    "# airbyte api base url so that we don't keep typing it everytime\n",
    "\n",
    "AIRBYTE_PUBLIC_API = \"http://localhost:8000/api/public/v1/\"\n",
    "AIRBYTE_API = \"http://localhost:8000/api/v1/\""
   ]
  },
  {
   "cell_type": "code",
   "execution_count": 19,
   "metadata": {},
   "outputs": [],
   "source": [
    "# to access local environmental variables\n",
    "\n",
    "load_dotenv(find_dotenv(), override=True)\n",
    "\n",
    "API_KEY = os.getenv('BLINKMETRICS_OPENWEATHER_API_KEY')\n",
    "CLIENT_ID = os.getenv('CLIENT_ID')\n",
    "CLIENT_SECERT = os.getenv('CLIENT_SECRET')\n",
    "WORK_SPACE = os.getenv('WORK_SPACE_ID')"
   ]
  },
  {
   "cell_type": "markdown",
   "metadata": {},
   "source": [
    "Let us first test the connection with the API to see if it is accessible"
   ]
  },
  {
   "cell_type": "code",
   "execution_count": 4,
   "metadata": {},
   "outputs": [
    {
     "data": {
      "text/plain": [
       "200"
      ]
     },
     "execution_count": 4,
     "metadata": {},
     "output_type": "execute_result"
    }
   ],
   "source": [
    "# testing the connection to the API:\n",
    "\n",
    "health_url = AIRBYTE_PUBLIC_API + '/health'\n",
    "\n",
    "health_response = requests.get(health_url)\n",
    "health_response.status_code"
   ]
  },
  {
   "cell_type": "code",
   "execution_count": 5,
   "metadata": {},
   "outputs": [
    {
     "data": {
      "text/plain": [
       "'Successful operation'"
      ]
     },
     "execution_count": 5,
     "metadata": {},
     "output_type": "execute_result"
    }
   ],
   "source": [
    "health_response.text # seeing the response to make sure the API connection is up"
   ]
  },
  {
   "cell_type": "markdown",
   "metadata": {},
   "source": [
    "The API is accessible!"
   ]
  },
  {
   "cell_type": "markdown",
   "metadata": {},
   "source": [
    "Now to get the token so we can access everything else in the API:"
   ]
  },
  {
   "cell_type": "code",
   "execution_count": 6,
   "metadata": {},
   "outputs": [],
   "source": [
    "# getting the Token for authorization:\n",
    "\n",
    "url_token = AIRBYTE_PUBLIC_API + \"/applications/token\"\n",
    "\n",
    "payload = {\n",
    "    \"client_id\": CLIENT_ID,\n",
    "    \"client_secret\": CLIENT_SECERT,\n",
    "}\n",
    "\n",
    "headers = {\n",
    "    \"accept\": \"application/json\",\n",
    "    \"content-type\": \"application/json\"\n",
    "}\n",
    "\n",
    "token_response = requests.post(url_token, json=payload, headers=headers)\n",
    "\n",
    "TOKEN = token_response.json()['access_token'] # storing the token in a constant"
   ]
  },
  {
   "cell_type": "markdown",
   "metadata": {},
   "source": [
    "since we now got the token we can proceed with testing how to create a source :D"
   ]
  },
  {
   "cell_type": "markdown",
   "metadata": {},
   "source": [
    "**1. get the source definition:**"
   ]
  },
  {
   "cell_type": "code",
   "execution_count": 28,
   "metadata": {},
   "outputs": [
    {
     "data": {
      "text/plain": [
       "200"
      ]
     },
     "execution_count": 28,
     "metadata": {},
     "output_type": "execute_result"
    }
   ],
   "source": [
    "source_def_url = AIRBYTE_API + \"/source_definitions/list\" \n",
    "\n",
    "headers = {\n",
    "    \"accept\": \"application/json\",\n",
    "    \"Content-Type\" : \"application/json\",\n",
    "    \"authorization\" : \"Bearer \" + TOKEN\n",
    "} \n",
    "\n",
    "source_def_response = requests.post(source_def_url, headers=headers)\n",
    "source_def_response.status_code"
   ]
  },
  {
   "cell_type": "code",
   "execution_count": 18,
   "metadata": {},
   "outputs": [
    {
     "data": {
      "text/plain": [
       "'561d7787-b45e-4f3b-af58-0163c3ba9d5a'"
      ]
     },
     "execution_count": 18,
     "metadata": {},
     "output_type": "execute_result"
    }
   ],
   "source": [
    "for source_def in source_def_response.json()['sourceDefinitions']:\n",
    "        if 'openweather' in source_def['name'].lower():\n",
    "             SOURCE_DEF = source_def['sourceDefinitionId']\n",
    "             \n",
    "SOURCE_DEF"
   ]
  },
  {
   "cell_type": "markdown",
   "metadata": {},
   "source": [
    "**2. create the source:**"
   ]
  },
  {
   "cell_type": "code",
   "execution_count": 30,
   "metadata": {},
   "outputs": [
    {
     "data": {
      "text/plain": [
       "{'sourceDefinitionId': '561d7787-b45e-4f3b-af58-0163c3ba9d5a',\n",
       " 'sourceId': 'e25e436c-a7d9-4c24-b652-1dc67e6180a5',\n",
       " 'workspaceId': 'b0841efb-2af8-410b-afe0-40a9837d3912',\n",
       " 'connectionConfiguration': {'lat': '33.8959203',\n",
       "  'lon': '35.47843',\n",
       "  'appid': '**********'},\n",
       " 'name': 'OpenWeather - Beirut - test',\n",
       " 'sourceName': 'Openweather',\n",
       " 'icon': 'https://connectors.airbyte.com/files/metadata/airbyte/source-openweather/latest/icon.svg',\n",
       " 'isVersionOverrideApplied': False,\n",
       " 'supportState': 'supported'}"
      ]
     },
     "execution_count": 30,
     "metadata": {},
     "output_type": "execute_result"
    }
   ],
   "source": [
    "url = AIRBYTE_API + \"/sources/create\"\n",
    "\n",
    "payload = {\n",
    "    \"sourceDefinitionId\": SOURCE_DEF,\n",
    "    \"workspaceId\": WORK_SPACE,\n",
    "    \"connectionConfiguration\": {\n",
    "        \"appid\": API_KEY,\n",
    "        \"lat\": '33.8959203',\n",
    "        \"lon\": '35.47843'\n",
    "    },\n",
    "    \"name\": f\"OpenWeather - Beirut - test\"\n",
    "}\n",
    "\n",
    "headers = {\n",
    "    \"accept\": \"application/json\",\n",
    "    \"Content-Type\" : \"application/json\",\n",
    "    \"authorization\" : \"Bearer \" + TOKEN\n",
    "} \n",
    "\n",
    "response = requests.post(url, json=payload, headers=headers)\n",
    "response.json()"
   ]
  },
  {
   "cell_type": "markdown",
   "metadata": {},
   "source": [
    "seems like our test was successful, let us see if the source appears in the UI"
   ]
  },
  {
   "cell_type": "markdown",
   "metadata": {},
   "source": [
    "<img src=\"..\\assets\\source_test_success.jpg\" width=\"750\"/>"
   ]
  },
  {
   "cell_type": "markdown",
   "metadata": {},
   "source": [
    "the source did appear in the UI :D"
   ]
  }
 ],
 "metadata": {
  "kernelspec": {
   "display_name": ".venv",
   "language": "python",
   "name": "python3"
  },
  "language_info": {
   "codemirror_mode": {
    "name": "ipython",
    "version": 3
   },
   "file_extension": ".py",
   "mimetype": "text/x-python",
   "name": "python",
   "nbconvert_exporter": "python",
   "pygments_lexer": "ipython3",
   "version": "3.12.4"
  }
 },
 "nbformat": 4,
 "nbformat_minor": 2
}
