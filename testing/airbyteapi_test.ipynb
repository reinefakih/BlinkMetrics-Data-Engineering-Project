{
 "cells": [
  {
   "cell_type": "markdown",
   "metadata": {},
   "source": [
    "# Airbyte API Testing for adding sources"
   ]
  },
  {
   "cell_type": "markdown",
   "metadata": {},
   "source": [
    "----------------------------------------------------------------"
   ]
  },
  {
   "cell_type": "markdown",
   "metadata": {},
   "source": [
    "This notebook's aim is to playaround and see how airbyte api works and how to make a python script to add sources."
   ]
  },
  {
   "cell_type": "code",
   "execution_count": 1,
   "metadata": {},
   "outputs": [],
   "source": [
    "# import statments\n",
    "import requests\n",
    "import os\n",
    "from dotenv import load_dotenv, find_dotenv"
   ]
  },
  {
   "cell_type": "code",
   "execution_count": 2,
   "metadata": {},
   "outputs": [],
   "source": [
    "# airbyte api base url so that we don't keep typing it everytime\n",
    "\n",
    "AIRBYTE_PUBLIC_API = \"http://localhost:8000/api/public/v1/\"\n",
    "AIRBYTE_API = \"http://localhost:8000/api/v1/\""
   ]
  },
  {
   "cell_type": "code",
   "execution_count": 24,
   "metadata": {},
   "outputs": [],
   "source": [
    "# to access local environmental variables\n",
    "\n",
    "load_dotenv(find_dotenv(), override=True)\n",
    "\n",
    "API_KEY = os.getenv('BLINKMETRICS_OPENWEATHER_API_KEY')\n",
    "CLIENT_ID = os.getenv('CLIENT_ID')\n",
    "CLIENT_SECERT = os.getenv('CLIENT_SECRET')\n",
    "WORK_SPACE = os.getenv('WORK_SPACE_ID')\n",
    "PASSWORD = os.getenv('DB_PASS')"
   ]
  },
  {
   "cell_type": "markdown",
   "metadata": {},
   "source": [
    "Let us first test the connection with the API to see if it is accessible"
   ]
  },
  {
   "cell_type": "code",
   "execution_count": 4,
   "metadata": {},
   "outputs": [
    {
     "data": {
      "text/plain": [
       "200"
      ]
     },
     "execution_count": 4,
     "metadata": {},
     "output_type": "execute_result"
    }
   ],
   "source": [
    "# testing the connection to the API:\n",
    "\n",
    "health_url = AIRBYTE_PUBLIC_API + '/health'\n",
    "\n",
    "health_response = requests.get(health_url)\n",
    "health_response.status_code"
   ]
  },
  {
   "cell_type": "code",
   "execution_count": 5,
   "metadata": {},
   "outputs": [
    {
     "data": {
      "text/plain": [
       "'Successful operation'"
      ]
     },
     "execution_count": 5,
     "metadata": {},
     "output_type": "execute_result"
    }
   ],
   "source": [
    "health_response.text # seeing the response to make sure the API connection is up"
   ]
  },
  {
   "cell_type": "markdown",
   "metadata": {},
   "source": [
    "The API is accessible!"
   ]
  },
  {
   "cell_type": "markdown",
   "metadata": {},
   "source": [
    "Now to get the token so we can access everything else in the API:"
   ]
  },
  {
   "cell_type": "code",
   "execution_count": 6,
   "metadata": {},
   "outputs": [],
   "source": [
    "# getting the Token for authorization:\n",
    "\n",
    "url_token = AIRBYTE_PUBLIC_API + \"/applications/token\"\n",
    "\n",
    "payload = {\n",
    "    \"client_id\": CLIENT_ID,\n",
    "    \"client_secret\": CLIENT_SECERT,\n",
    "}\n",
    "\n",
    "headers = {\n",
    "    \"accept\": \"application/json\",\n",
    "    \"content-type\": \"application/json\"\n",
    "}\n",
    "\n",
    "token_response = requests.post(url_token, json=payload, headers=headers)\n",
    "\n",
    "TOKEN = token_response.json()['access_token'] # storing the token in a constant"
   ]
  },
  {
   "cell_type": "markdown",
   "metadata": {},
   "source": [
    "since we now got the token we can proceed with testing how to create a source :D"
   ]
  },
  {
   "cell_type": "markdown",
   "metadata": {},
   "source": [
    "## Create a source:"
   ]
  },
  {
   "cell_type": "markdown",
   "metadata": {},
   "source": [
    "**1. get the source definition:**"
   ]
  },
  {
   "cell_type": "code",
   "execution_count": 7,
   "metadata": {},
   "outputs": [
    {
     "data": {
      "text/plain": [
       "200"
      ]
     },
     "execution_count": 7,
     "metadata": {},
     "output_type": "execute_result"
    }
   ],
   "source": [
    "source_def_url = AIRBYTE_API + \"/source_definitions/list\" \n",
    "\n",
    "headers = {\n",
    "    \"accept\": \"application/json\",\n",
    "    \"Content-Type\" : \"application/json\",\n",
    "    \"authorization\" : \"Bearer \" + TOKEN\n",
    "} \n",
    "\n",
    "source_def_response = requests.post(source_def_url, headers=headers)\n",
    "source_def_response.status_code"
   ]
  },
  {
   "cell_type": "code",
   "execution_count": 8,
   "metadata": {},
   "outputs": [
    {
     "data": {
      "text/plain": [
       "'561d7787-b45e-4f3b-af58-0163c3ba9d5a'"
      ]
     },
     "execution_count": 8,
     "metadata": {},
     "output_type": "execute_result"
    }
   ],
   "source": [
    "# getting the source def of OpenWeather so we can use it in the create source request \n",
    "\n",
    "for source_def in source_def_response.json()['sourceDefinitions']:\n",
    "        if 'openweather' in source_def['name'].lower():\n",
    "             SOURCE_DEF = source_def['sourceDefinitionId']\n",
    "             \n",
    "SOURCE_DEF"
   ]
  },
  {
   "cell_type": "markdown",
   "metadata": {},
   "source": [
    "**2. create the source:**"
   ]
  },
  {
   "cell_type": "code",
   "execution_count": 9,
   "metadata": {},
   "outputs": [
    {
     "data": {
      "text/plain": [
       "{'sourceDefinitionId': '561d7787-b45e-4f3b-af58-0163c3ba9d5a',\n",
       " 'sourceId': '5201d6c0-05db-4627-8134-b431a6a0b4d1',\n",
       " 'workspaceId': 'b0841efb-2af8-410b-afe0-40a9837d3912',\n",
       " 'connectionConfiguration': {'lat': '33.8959203',\n",
       "  'lon': '35.47843',\n",
       "  'appid': '**********'},\n",
       " 'name': 'OpenWeather - Beirut - test',\n",
       " 'sourceName': 'Openweather',\n",
       " 'icon': 'https://connectors.airbyte.com/files/metadata/airbyte/source-openweather/latest/icon.svg',\n",
       " 'isVersionOverrideApplied': False,\n",
       " 'supportState': 'supported'}"
      ]
     },
     "execution_count": 9,
     "metadata": {},
     "output_type": "execute_result"
    }
   ],
   "source": [
    "url = AIRBYTE_API + \"/sources/create\"\n",
    "\n",
    "payload = {\n",
    "    \"sourceDefinitionId\": SOURCE_DEF,\n",
    "    \"workspaceId\": WORK_SPACE,\n",
    "    \n",
    "    \"connectionConfiguration\": {\n",
    "        \"appid\": API_KEY,\n",
    "        \"lat\": '33.8959203',\n",
    "        \"lon\": '35.47843'\n",
    "    },\n",
    "\n",
    "    \"name\": f\"OpenWeather - Beirut - test\"\n",
    "}\n",
    "\n",
    "headers = {\n",
    "    \"accept\": \"application/json\",\n",
    "    \"Content-Type\" : \"application/json\",\n",
    "    \"authorization\" : \"Bearer \" + TOKEN\n",
    "} \n",
    "\n",
    "response = requests.post(url, json=payload, headers=headers)\n",
    "response.json()"
   ]
  },
  {
   "cell_type": "markdown",
   "metadata": {},
   "source": [
    "seems like our test was successful, let us see if the source appears in the UI"
   ]
  },
  {
   "cell_type": "markdown",
   "metadata": {},
   "source": [
    "<img src=\"..\\assets\\source_test_success.jpg\" width=\"750\"/>"
   ]
  },
  {
   "cell_type": "markdown",
   "metadata": {},
   "source": [
    "the source did appear in the UI :D"
   ]
  },
  {
   "cell_type": "markdown",
   "metadata": {},
   "source": [
    "now to try creating a destination "
   ]
  },
  {
   "cell_type": "markdown",
   "metadata": {},
   "source": [
    "## Create a Destination:"
   ]
  },
  {
   "cell_type": "code",
   "execution_count": 11,
   "metadata": {},
   "outputs": [
    {
     "data": {
      "text/plain": [
       "200"
      ]
     },
     "execution_count": 11,
     "metadata": {},
     "output_type": "execute_result"
    }
   ],
   "source": [
    "dest_def_url = AIRBYTE_API + \"destination_definitions/list\" \n",
    "\n",
    "headers = {\n",
    "    \"accept\": \"application/json\",\n",
    "    \"Content-Type\" : \"application/json\",\n",
    "    \"authorization\" : \"Bearer \" + TOKEN\n",
    "} \n",
    "\n",
    "dest_def_response = requests.post(dest_def_url, headers=headers)\n",
    "dest_def_response.status_code"
   ]
  },
  {
   "cell_type": "code",
   "execution_count": 13,
   "metadata": {},
   "outputs": [],
   "source": [
    "for destination_def in dest_def_response.json()['destinationDefinitions']:\n",
    "    if 'MySQL'.lower() in destination_def['name'].lower():\n",
    "        DEST_DEF = destination_def['destinationDefinitionId']"
   ]
  },
  {
   "cell_type": "code",
   "execution_count": 23,
   "metadata": {},
   "outputs": [
    {
     "data": {
      "text/plain": [
       "'{\"destinationDefinitionId\":\"ca81ee7c-3163-4246-af40-094cc31e5e42\",\"destinationId\":\"da8ae1aa-30e0-4487-87d8-f5c05b84421f\",\"workspaceId\":\"b0841efb-2af8-410b-afe0-40a9837d3912\",\"connectionConfiguration\":{\"host\":\"host.docker.internal\",\"port\":3306,\"database\":\"blinkmetrics_project_stage\",\"password\":\"**********\",\"username\":\"root\",\"destinationType\":\"mysql\"},\"name\":\"MySQL - test\",\"destinationName\":\"MySQL\",\"icon\":\"https://connectors.airbyte.com/files/metadata/airbyte/destination-mysql/latest/icon.svg\",\"isVersionOverrideApplied\":false,\"supportState\":\"supported\"}'"
      ]
     },
     "execution_count": 23,
     "metadata": {},
     "output_type": "execute_result"
    }
   ],
   "source": [
    "\n",
    "url = AIRBYTE_API + \"/destinations/create\"\n",
    "\n",
    "payload = { \n",
    "    \"destinationDefinitionId\": DEST_DEF,\n",
    "    \"workspaceId\": WORK_SPACE,\n",
    "\n",
    "    \"connectionConfiguration\": {\n",
    "        \"destinationType\": \"mysql\",\n",
    "        \"host\": \"host.docker.internal\",\n",
    "        \"port\": 3306,\n",
    "        \"database\": \"blinkmetrics_project_stage\",\n",
    "        \"username\": \"root\",\n",
    "        \"password\": PASSWORD\n",
    "    },\n",
    "\n",
    "    \"name\": \"MySQL - test\"}\n",
    "\n",
    "headers = {\n",
    "    \"accept\": \"application/json\",\n",
    "    \"content-type\": \"application/json\",\n",
    "    \"authorization\": \"Bearer \" + TOKEN\n",
    "}\n",
    "\n",
    "response = requests.post(url, json=payload, headers=headers)\n",
    "\n",
    "response.text"
   ]
  },
  {
   "cell_type": "markdown",
   "metadata": {},
   "source": [
    "<img src=\"..\\assets\\destination_test_success.jpg\" width=\"750\"/>"
   ]
  },
  {
   "cell_type": "markdown",
   "metadata": {},
   "source": [
    "This was a success too :D!"
   ]
  },
  {
   "cell_type": "markdown",
   "metadata": {},
   "source": [
    "## Create a Connection:"
   ]
  },
  {
   "cell_type": "code",
   "execution_count": 39,
   "metadata": {},
   "outputs": [
    {
     "name": "stdout",
     "output_type": "stream",
     "text": [
      "[{'sourceDefinitionId': '55befeb8-1af2-4142-8f5e-13993f86741c', 'sourceId': '1bc629e8-b5f2-4f8a-b350-36abb3ab079c', 'workspaceId': 'b0841efb-2af8-410b-afe0-40a9837d3912', 'connectionConfiguration': {'api_key': '**********', '__injected_declarative_manifest': {}}, 'name': 'Open Weather Current', 'sourceName': 'Open Weather Current', 'isVersionOverrideApplied': False, 'supportState': 'supported', 'status': 'inactive'}, {'sourceDefinitionId': '561d7787-b45e-4f3b-af58-0163c3ba9d5a', 'sourceId': 'e25e436c-a7d9-4c24-b652-1dc67e6180a5', 'workspaceId': 'b0841efb-2af8-410b-afe0-40a9837d3912', 'connectionConfiguration': {'lat': '33.8959203', 'lon': '35.47843', 'appid': '**********'}, 'name': 'OpenWeather - Beirut - test', 'sourceName': 'Openweather', 'icon': 'https://connectors.airbyte.com/files/metadata/airbyte/source-openweather/latest/icon.svg', 'isVersionOverrideApplied': False, 'supportState': 'supported', 'status': 'inactive'}, {'sourceDefinitionId': '561d7787-b45e-4f3b-af58-0163c3ba9d5a', 'sourceId': '2eec855f-4ed1-4f1a-a0c3-3c47c6e68b35', 'workspaceId': 'b0841efb-2af8-410b-afe0-40a9837d3912', 'connectionConfiguration': {'lat': '-15.7934036', 'lon': '-47.8823172', 'appid': '**********', 'units': 'metric'}, 'name': 'OpenWeather - Brasília', 'sourceName': 'Openweather', 'icon': 'https://connectors.airbyte.com/files/metadata/airbyte/source-openweather/latest/icon.svg', 'isVersionOverrideApplied': False, 'supportState': 'supported', 'status': 'inactive'}, {'sourceDefinitionId': '561d7787-b45e-4f3b-af58-0163c3ba9d5a', 'sourceId': '0a88c816-6861-40e3-8e04-3205c0734f99', 'workspaceId': 'b0841efb-2af8-410b-afe0-40a9837d3912', 'connectionConfiguration': {'lat': '45.4208777', 'lon': '-75.6901106', 'appid': '**********', 'units': 'metric'}, 'name': 'OpenWeather - Ottawa', 'sourceName': 'Openweather', 'icon': 'https://connectors.airbyte.com/files/metadata/airbyte/source-openweather/latest/icon.svg', 'isVersionOverrideApplied': False, 'supportState': 'supported', 'status': 'inactive'}, {'sourceDefinitionId': '561d7787-b45e-4f3b-af58-0163c3ba9d5a', 'sourceId': '2326289d-10a2-46ca-bf28-33919d0e29fa', 'workspaceId': 'b0841efb-2af8-410b-afe0-40a9837d3912', 'connectionConfiguration': {'lat': '48.8588897', 'lon': '2.3200410217200766', 'appid': '**********', 'units': 'metric'}, 'name': 'OpenWeather - Paris', 'sourceName': 'Openweather', 'icon': 'https://connectors.airbyte.com/files/metadata/airbyte/source-openweather/latest/icon.svg', 'isVersionOverrideApplied': False, 'supportState': 'supported', 'status': 'inactive'}, {'sourceDefinitionId': '561d7787-b45e-4f3b-af58-0163c3ba9d5a', 'sourceId': '70b504a3-f9a6-4200-8c22-d7ad38fc4be1', 'workspaceId': 'b0841efb-2af8-410b-afe0-40a9837d3912', 'connectionConfiguration': {'lat': '52.5170365', 'lon': '13.3888599', 'appid': '**********', 'units': 'metric'}, 'name': 'OpenWeather - Berlin', 'sourceName': 'Openweather', 'icon': 'https://connectors.airbyte.com/files/metadata/airbyte/source-openweather/latest/icon.svg', 'isVersionOverrideApplied': False, 'supportState': 'supported', 'status': 'inactive'}, {'sourceDefinitionId': '561d7787-b45e-4f3b-af58-0163c3ba9d5a', 'sourceId': '18b0a126-67c0-4bfe-8bc5-c41ecb47c4bd', 'workspaceId': 'b0841efb-2af8-410b-afe0-40a9837d3912', 'connectionConfiguration': {'lat': '35.6892523', 'lon': '51.3896004', 'appid': '**********', 'units': 'metric'}, 'name': 'OpenWeather - Tehran', 'sourceName': 'Openweather', 'icon': 'https://connectors.airbyte.com/files/metadata/airbyte/source-openweather/latest/icon.svg', 'isVersionOverrideApplied': False, 'supportState': 'supported', 'status': 'inactive'}, {'sourceDefinitionId': '561d7787-b45e-4f3b-af58-0163c3ba9d5a', 'sourceId': '3fd74f73-d5f3-4079-ad9a-41bb4080399b', 'workspaceId': 'b0841efb-2af8-410b-afe0-40a9837d3912', 'connectionConfiguration': {'lat': '33.3061701', 'lon': '44.3872213', 'appid': '**********', 'units': 'metric'}, 'name': 'OpenWeather - Baghdad', 'sourceName': 'Openweather', 'icon': 'https://connectors.airbyte.com/files/metadata/airbyte/source-openweather/latest/icon.svg', 'isVersionOverrideApplied': False, 'supportState': 'supported', 'status': 'inactive'}, {'sourceDefinitionId': '561d7787-b45e-4f3b-af58-0163c3ba9d5a', 'sourceId': 'aba0f704-2d2d-43a6-a9ac-4ca35f1ea024', 'workspaceId': 'b0841efb-2af8-410b-afe0-40a9837d3912', 'connectionConfiguration': {'lat': '41.8933203', 'lon': '12.4829321', 'appid': '**********', 'units': 'metric'}, 'name': 'OpenWeather - Rome', 'sourceName': 'Openweather', 'icon': 'https://connectors.airbyte.com/files/metadata/airbyte/source-openweather/latest/icon.svg', 'isVersionOverrideApplied': False, 'supportState': 'supported', 'status': 'inactive'}, {'sourceDefinitionId': '561d7787-b45e-4f3b-af58-0163c3ba9d5a', 'sourceId': 'b358cc42-f217-45e1-b859-45a7b589d45d', 'workspaceId': 'b0841efb-2af8-410b-afe0-40a9837d3912', 'connectionConfiguration': {'lat': '31.9515694', 'lon': '35.9239625', 'appid': '**********', 'units': 'metric'}, 'name': 'OpenWeather - Amman', 'sourceName': 'Openweather', 'icon': 'https://connectors.airbyte.com/files/metadata/airbyte/source-openweather/latest/icon.svg', 'isVersionOverrideApplied': False, 'supportState': 'supported', 'status': 'inactive'}, {'sourceDefinitionId': '561d7787-b45e-4f3b-af58-0163c3ba9d5a', 'sourceId': 'e2be6309-4745-441c-9012-77fd3455d9c3', 'workspaceId': 'b0841efb-2af8-410b-afe0-40a9837d3912', 'connectionConfiguration': {'lat': '33.8959203', 'lon': '35.47843', 'appid': '**********', 'units': 'metric'}, 'name': 'OpenWeather - Beirut', 'sourceName': 'Openweather', 'icon': 'https://connectors.airbyte.com/files/metadata/airbyte/source-openweather/latest/icon.svg', 'isVersionOverrideApplied': False, 'supportState': 'supported', 'status': 'inactive'}, {'sourceDefinitionId': '561d7787-b45e-4f3b-af58-0163c3ba9d5a', 'sourceId': '4400828f-89e3-4a80-9462-658766be0651', 'workspaceId': 'b0841efb-2af8-410b-afe0-40a9837d3912', 'connectionConfiguration': {'lat': '4.1779879', 'lon': '73.5107387', 'appid': '**********', 'units': 'metric'}, 'name': 'OpenWeather - Malé', 'sourceName': 'Openweather', 'icon': 'https://connectors.airbyte.com/files/metadata/airbyte/source-openweather/latest/icon.svg', 'isVersionOverrideApplied': False, 'supportState': 'supported', 'status': 'inactive'}, {'sourceDefinitionId': '561d7787-b45e-4f3b-af58-0163c3ba9d5a', 'sourceId': 'bfee574a-0921-4439-96a3-a4317eaf1f9f', 'workspaceId': 'b0841efb-2af8-410b-afe0-40a9837d3912', 'connectionConfiguration': {'lat': '55.7504461', 'lon': '37.6174943', 'appid': '**********', 'units': 'metric'}, 'name': 'OpenWeather - Moscow', 'sourceName': 'Openweather', 'icon': 'https://connectors.airbyte.com/files/metadata/airbyte/source-openweather/latest/icon.svg', 'isVersionOverrideApplied': False, 'supportState': 'supported', 'status': 'inactive'}, {'sourceDefinitionId': '561d7787-b45e-4f3b-af58-0163c3ba9d5a', 'sourceId': 'feeb30c0-2586-4263-95c8-8bec731fe8e4', 'workspaceId': 'b0841efb-2af8-410b-afe0-40a9837d3912', 'connectionConfiguration': {'lat': '24.638916', 'lon': '46.7160104', 'appid': '**********', 'units': 'metric'}, 'name': 'OpenWeather - Riyadh', 'sourceName': 'Openweather', 'icon': 'https://connectors.airbyte.com/files/metadata/airbyte/source-openweather/latest/icon.svg', 'isVersionOverrideApplied': False, 'supportState': 'supported', 'status': 'inactive'}, {'sourceDefinitionId': '561d7787-b45e-4f3b-af58-0163c3ba9d5a', 'sourceId': '9475e37a-c2be-48af-b7a6-334dcb616c65', 'workspaceId': 'b0841efb-2af8-410b-afe0-40a9837d3912', 'connectionConfiguration': {'lat': '-25.7459277', 'lon': '28.1879101', 'appid': '**********', 'units': 'metric'}, 'name': 'OpenWeather - Pretoria', 'sourceName': 'Openweather', 'icon': 'https://connectors.airbyte.com/files/metadata/airbyte/source-openweather/latest/icon.svg', 'isVersionOverrideApplied': False, 'supportState': 'supported', 'status': 'inactive'}, {'sourceDefinitionId': '561d7787-b45e-4f3b-af58-0163c3ba9d5a', 'sourceId': '66566bfd-2599-434e-90c6-dd37710e5943', 'workspaceId': 'b0841efb-2af8-410b-afe0-40a9837d3912', 'connectionConfiguration': {'lat': '50.4500336', 'lon': '30.5241361', 'appid': '**********', 'units': 'metric'}, 'name': 'OpenWeather - Kyiv', 'sourceName': 'Openweather', 'icon': 'https://connectors.airbyte.com/files/metadata/airbyte/source-openweather/latest/icon.svg', 'isVersionOverrideApplied': False, 'supportState': 'supported', 'status': 'inactive'}, {'sourceDefinitionId': '561d7787-b45e-4f3b-af58-0163c3ba9d5a', 'sourceId': '3c518e04-a8d3-4181-b78f-d6fd91077339', 'workspaceId': 'b0841efb-2af8-410b-afe0-40a9837d3912', 'connectionConfiguration': {'lat': '24.4538352', 'lon': '54.3774014', 'appid': '**********', 'units': 'metric'}, 'name': 'OpenWeather - Abu Dhabi', 'sourceName': 'Openweather', 'icon': 'https://connectors.airbyte.com/files/metadata/airbyte/source-openweather/latest/icon.svg', 'isVersionOverrideApplied': False, 'supportState': 'supported', 'status': 'inactive'}, {'sourceDefinitionId': '561d7787-b45e-4f3b-af58-0163c3ba9d5a', 'sourceId': '289040e7-c908-462a-9566-42f7e545e288', 'workspaceId': 'b0841efb-2af8-410b-afe0-40a9837d3912', 'connectionConfiguration': {'lat': '51.5073219', 'lon': '-0.1276474', 'appid': '**********', 'units': 'metric'}, 'name': 'OpenWeather - London', 'sourceName': 'Openweather', 'icon': 'https://connectors.airbyte.com/files/metadata/airbyte/source-openweather/latest/icon.svg', 'isVersionOverrideApplied': False, 'supportState': 'supported', 'status': 'inactive'}, {'sourceDefinitionId': '561d7787-b45e-4f3b-af58-0163c3ba9d5a', 'sourceId': '04e5d965-1dea-4feb-ac7a-3b9e16a842e3', 'workspaceId': 'b0841efb-2af8-410b-afe0-40a9837d3912', 'connectionConfiguration': {'lat': '38.8950368', 'lon': '-77.0365427', 'appid': '**********', 'units': 'metric'}, 'name': 'OpenWeather - Washington, D.C.', 'sourceName': 'Openweather', 'icon': 'https://connectors.airbyte.com/files/metadata/airbyte/source-openweather/latest/icon.svg', 'isVersionOverrideApplied': False, 'supportState': 'supported', 'status': 'inactive'}]\n"
     ]
    }
   ],
   "source": [
    "# Define the endpoint URL for listing sources\n",
    "url = AIRBYTE_API + \"/sources/list\"\n",
    "\n",
    "payload = {\n",
    "    \"workspaceId\": WORK_SPACE\n",
    "}\n",
    "\n",
    "headers = {\n",
    "    \"accept\": \"application/json\",\n",
    "    \"content-type\": \"application/json\",\n",
    "    \"authorization\": f\"Bearer {TOKEN}\" \n",
    "}\n",
    "\n",
    "# Send the request to get the list of sources\n",
    "response = requests.post(url, json=payload, headers=headers)\n",
    "\n",
    "# Check the response status and print the result\n",
    "if response.status_code == 200:\n",
    "    sources = response.json()['sources']\n",
    "    print(sources)\n",
    "else:\n",
    "    print(f\"Error: {response.status_code}\")\n",
    "    print(response.text)\n"
   ]
  },
  {
   "cell_type": "code",
   "execution_count": 43,
   "metadata": {},
   "outputs": [
    {
     "name": "stdout",
     "output_type": "stream",
     "text": [
      "[{'2eec855f-4ed1-4f1a-a0c3-3c47c6e68b35', 'OpenWeather - Brasília'}, {'OpenWeather - Ottawa', '0a88c816-6861-40e3-8e04-3205c0734f99'}, {'2326289d-10a2-46ca-bf28-33919d0e29fa', 'OpenWeather - Paris'}, {'70b504a3-f9a6-4200-8c22-d7ad38fc4be1', 'OpenWeather - Berlin'}, {'18b0a126-67c0-4bfe-8bc5-c41ecb47c4bd', 'OpenWeather - Tehran'}, {'OpenWeather - Baghdad', '3fd74f73-d5f3-4079-ad9a-41bb4080399b'}, {'OpenWeather - Rome', 'aba0f704-2d2d-43a6-a9ac-4ca35f1ea024'}, {'OpenWeather - Amman', 'b358cc42-f217-45e1-b859-45a7b589d45d'}, {'OpenWeather - Beirut', 'e2be6309-4745-441c-9012-77fd3455d9c3'}, {'OpenWeather - Malé', '4400828f-89e3-4a80-9462-658766be0651'}, {'bfee574a-0921-4439-96a3-a4317eaf1f9f', 'OpenWeather - Moscow'}, {'feeb30c0-2586-4263-95c8-8bec731fe8e4', 'OpenWeather - Riyadh'}, {'9475e37a-c2be-48af-b7a6-334dcb616c65', 'OpenWeather - Pretoria'}, {'66566bfd-2599-434e-90c6-dd37710e5943', 'OpenWeather - Kyiv'}, {'OpenWeather - Abu Dhabi', '3c518e04-a8d3-4181-b78f-d6fd91077339'}, {'OpenWeather - London', '289040e7-c908-462a-9566-42f7e545e288'}, {'04e5d965-1dea-4feb-ac7a-3b9e16a842e3', 'OpenWeather - Washington, D.C.'}]\n"
     ]
    }
   ],
   "source": [
    "source_list = []\n",
    "for source in sources[2:]:\n",
    "    source_list.append({source['sourceId'], source['name']})\n",
    "\n",
    "print(source_list)"
   ]
  },
  {
   "cell_type": "markdown",
   "metadata": {},
   "source": [
    "we have 17 sources, this is due to an issue with how airbyte is taking the lon it is supposed to be between -180 ad 180, however it is not accepting values about 99 and below -99"
   ]
  },
  {
   "cell_type": "code",
   "execution_count": 30,
   "metadata": {},
   "outputs": [],
   "source": [
    "source_id = \"e25e436c-a7d9-4c24-b652-1dc67e6180a5\"  # Source ID you got when creating the source\n",
    "\n",
    "url = AIRBYTE_API + \"/sources/discover_schema\"\n",
    "\n",
    "payload = {\n",
    "    \"sourceId\": source_id\n",
    "}\n",
    "\n",
    "headers = {\n",
    "    \"accept\": \"application/json\",\n",
    "    \"content-type\": \"application/json\",\n",
    "    \"authorization\": \"Bearer \" + TOKEN\n",
    "}\n",
    "\n",
    "response = requests.post(url, json=payload, headers=headers)\n",
    "\n",
    "schema_response = response.json()\n",
    "jsonSchema = schema_response['catalog']['streams'][0]['stream']['jsonSchema']"
   ]
  },
  {
   "cell_type": "code",
   "execution_count": 42,
   "metadata": {},
   "outputs": [
    {
     "data": {
      "text/plain": [
       "{'$schema': 'http://json-schema.org/draft-07/schema#',\n",
       " 'additionalProperties': True,\n",
       " 'type': 'object',\n",
       " 'properties': {'alerts': {'description': 'Weather alerts for the requested location',\n",
       "   'type': 'array'},\n",
       "  'current': {'description': 'Contains current weather data',\n",
       "   'additionalProperties': True,\n",
       "   'type': 'object',\n",
       "   'properties': {'rain': {'description': 'Information about precipitation in the last hour',\n",
       "     'additionalProperties': True,\n",
       "     'type': 'object',\n",
       "     'properties': {'1h': {'description': 'Rain volume for the last hour',\n",
       "       'type': 'number'}}},\n",
       "    'temp': {'description': 'Temperature', 'type': 'number'},\n",
       "    'sunrise': {'description': 'Sunrise time', 'type': 'number'},\n",
       "    'visibility': {'description': 'Visibility distance', 'type': 'number'},\n",
       "    'uvi': {'description': 'UV index', 'type': 'number'},\n",
       "    'clouds': {'description': 'Cloudiness percentage', 'type': 'number'},\n",
       "    'pressure': {'description': 'Atmospheric pressure on the sea level',\n",
       "     'type': 'number'},\n",
       "    'feels_like': {'description': 'Apparent (feels like) temperature',\n",
       "     'type': 'number'},\n",
       "    'dt': {'description': 'Time of the data forecasted', 'type': 'number'},\n",
       "    'wind_deg': {'description': 'Wind direction in degrees', 'type': 'number'},\n",
       "    'dew_point': {'description': 'Dew point temperature', 'type': 'number'},\n",
       "    'sunset': {'description': 'Sunset time', 'type': 'number'},\n",
       "    'weather': {'description': 'Weather condition', 'type': 'array'},\n",
       "    'humidity': {'description': 'Humidity percentage', 'type': 'number'},\n",
       "    'wind_speed': {'description': 'Wind speed in meters per second',\n",
       "     'type': 'number'}}},\n",
       "  'timezone': {'description': 'Time zone name for the requested location',\n",
       "   'type': 'string'},\n",
       "  'daily': {'description': 'Weather forecast for the next 7 days',\n",
       "   'type': 'array'},\n",
       "  'timezone_offset': {'description': 'Time offset in seconds from UTC',\n",
       "   'type': 'number'},\n",
       "  'lon': {'description': 'Longitude of the requested location',\n",
       "   'type': 'number'},\n",
       "  'hourly': {'description': 'Weather forecast for the next 48 hours',\n",
       "   'type': 'array'},\n",
       "  'minutely': {'description': 'Minute forecast for the next hour',\n",
       "   'type': 'array'},\n",
       "  'lat': {'description': 'Latitude of the requested location',\n",
       "   'type': 'number'}}}"
      ]
     },
     "execution_count": 42,
     "metadata": {},
     "output_type": "execute_result"
    }
   ],
   "source": [
    "jsonSchema"
   ]
  },
  {
   "cell_type": "code",
   "execution_count": 36,
   "metadata": {},
   "outputs": [
    {
     "name": "stdout",
     "output_type": "stream",
     "text": [
      "{'connectionId': '628c57f0-fc79-474c-8f46-cd5f1c16255c', 'name': 'Beirut Weather to MySQL - test', 'namespaceDefinition': 'source', 'namespaceFormat': '${SOURCE_NAMESPACE}', 'sourceId': 'e25e436c-a7d9-4c24-b652-1dc67e6180a5', 'destinationId': 'da8ae1aa-30e0-4487-87d8-f5c05b84421f', 'operationIds': [], 'syncCatalog': {'streams': [{'stream': {'name': 'onecall', 'jsonSchema': {'type': 'object', '$schema': 'http://json-schema.org/draft-07/schema#', 'properties': {'lat': {'type': 'number', 'description': 'Latitude of the requested location'}, 'lon': {'type': 'number', 'description': 'Longitude of the requested location'}, 'daily': {'type': 'array', 'description': 'Weather forecast for the next 7 days'}, 'alerts': {'type': 'array', 'description': 'Weather alerts for the requested location'}, 'hourly': {'type': 'array', 'description': 'Weather forecast for the next 48 hours'}, 'current': {'type': 'object', 'properties': {'dt': {'type': 'number', 'description': 'Time of the data forecasted'}, 'uvi': {'type': 'number', 'description': 'UV index'}, 'rain': {'type': 'object', 'properties': {'1h': {'type': 'number', 'description': 'Rain volume for the last hour'}}, 'description': 'Information about precipitation in the last hour', 'additionalProperties': True}, 'temp': {'type': 'number', 'description': 'Temperature'}, 'clouds': {'type': 'number', 'description': 'Cloudiness percentage'}, 'sunset': {'type': 'number', 'description': 'Sunset time'}, 'sunrise': {'type': 'number', 'description': 'Sunrise time'}, 'weather': {'type': 'array', 'description': 'Weather condition'}, 'humidity': {'type': 'number', 'description': 'Humidity percentage'}, 'pressure': {'type': 'number', 'description': 'Atmospheric pressure on the sea level'}, 'wind_deg': {'type': 'number', 'description': 'Wind direction in degrees'}, 'dew_point': {'type': 'number', 'description': 'Dew point temperature'}, 'feels_like': {'type': 'number', 'description': 'Apparent (feels like) temperature'}, 'visibility': {'type': 'number', 'description': 'Visibility distance'}, 'wind_speed': {'type': 'number', 'description': 'Wind speed in meters per second'}}, 'description': 'Contains current weather data', 'additionalProperties': True}, 'minutely': {'type': 'array', 'description': 'Minute forecast for the next hour'}, 'timezone': {'type': 'string', 'description': 'Time zone name for the requested location'}, 'timezone_offset': {'type': 'number', 'description': 'Time offset in seconds from UTC'}}, 'additionalProperties': True}, 'supportedSyncModes': ['full_refresh', 'incremental'], 'sourceDefinedCursor': False, 'defaultCursorField': [], 'sourceDefinedPrimaryKey': []}, 'config': {'syncMode': 'incremental', 'cursorField': ['_airbyte_extracted_at'], 'destinationSyncMode': 'append', 'primaryKey': [], 'aliasName': 'onecall', 'selected': True, 'suggested': False, 'fieldSelectionEnabled': False, 'selectedFields': [], 'hashedFields': []}}]}, 'scheduleType': 'manual', 'status': 'active', 'geography': 'auto', 'breakingChange': False, 'notifySchemaChanges': False, 'notifySchemaChangesByEmail': False, 'nonBreakingChangesPreference': 'ignore', 'created_at': 1729176624, 'backfillPreference': 'disabled'}\n"
     ]
    }
   ],
   "source": [
    "source_id = \"e25e436c-a7d9-4c24-b652-1dc67e6180a5\" \n",
    "destination_id = \"da8ae1aa-30e0-4487-87d8-f5c05b84421f\" \n",
    "\n",
    "url = AIRBYTE_API + \"/connections/create\"\n",
    "\n",
    "payload = {\n",
    "    \"sourceId\": source_id,\n",
    "    \"destinationId\": destination_id,\n",
    "    \"name\": \"Beirut Weather to MySQL - test\",\n",
    "    \"namespaceDefinition\": \"source\",  \n",
    "    \"namespaceFormat\": \"${SOURCE_NAMESPACE}\",  \n",
    "    \"syncCatalog\": {\n",
    "        \"streams\": [\n",
    "            {\n",
    "                \"stream\": {\n",
    "                    \"name\": \"onecall\",  \n",
    "                    \"namespace\": None,  \n",
    "                    \"jsonSchema\": jsonSchema,\n",
    "                    \"supportedSyncModes\": [\"full_refresh\", \"incremental\"]\n",
    "                },\n",
    "                \"config\": {\n",
    "                    \"syncMode\": \"incremental\",\n",
    "                    \"cursorField\": '_airbyte_extracted_at',  \n",
    "                    \"destinationSyncMode\": \"append\",  \n",
    "                    \"selected\": True\n",
    "                }\n",
    "            }\n",
    "        ]\n",
    "    },\n",
    "    \"scheduleType\": \"manual\",  \n",
    "    \"status\": \"active\"\n",
    "}\n",
    "\n",
    "\n",
    "headers = {\n",
    "    \"accept\": \"application/json\",\n",
    "    \"content-type\": \"application/json\",\n",
    "    \"authorization\": \"Bearer \" + TOKEN\n",
    "}\n",
    "\n",
    "\n",
    "response = requests.post(url, json=payload, headers=headers)\n",
    "\n",
    "print(response.json())"
   ]
  },
  {
   "cell_type": "markdown",
   "metadata": {},
   "source": [
    "<img src=\"..\\assets\\connector_test_success.jpg\" width=\"750\"/>"
   ]
  },
  {
   "cell_type": "markdown",
   "metadata": {},
   "source": [
    "looks like a success on this end! "
   ]
  },
  {
   "cell_type": "markdown",
   "metadata": {},
   "source": [
    "still have to see how the data is loaded in MySQL to make sure!"
   ]
  },
  {
   "cell_type": "markdown",
   "metadata": {},
   "source": [
    "<img src=\"..\\assets\\load_test_success.jpg\" width=\"750\"/>"
   ]
  },
  {
   "cell_type": "markdown",
   "metadata": {},
   "source": [
    "this was a success :D \n",
    "\n",
    "the EL part is now tested! onto the T part next :>"
   ]
  }
 ],
 "metadata": {
  "kernelspec": {
   "display_name": ".venv",
   "language": "python",
   "name": "python3"
  },
  "language_info": {
   "codemirror_mode": {
    "name": "ipython",
    "version": 3
   },
   "file_extension": ".py",
   "mimetype": "text/x-python",
   "name": "python",
   "nbconvert_exporter": "python",
   "pygments_lexer": "ipython3",
   "version": "3.12.4"
  }
 },
 "nbformat": 4,
 "nbformat_minor": 2
}
